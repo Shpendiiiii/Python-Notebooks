{
 "cells": [
  {
   "cell_type": "code",
   "execution_count": 61,
   "metadata": {},
   "outputs": [],
   "source": [
    "from random import randint as ri\n",
    "\n",
    "data = [ri(0, 100) for i in range(10)]\n"
   ]
  },
  {
   "cell_type": "code",
   "execution_count": 62,
   "metadata": {},
   "outputs": [],
   "source": [
    "def sort_and_mean(_list):\n",
    "    \"\"\"\n",
    "    Return the sorted, length, and mean of the dataset \n",
    "    \"\"\"\n",
    "    _list.sort()\n",
    "    length = len(_list)\n",
    "    # sorted list, number of elements,  mean\n",
    "    return _list, length, sum(_list)/length\n"
   ]
  },
  {
   "cell_type": "code",
   "execution_count": 63,
   "metadata": {},
   "outputs": [],
   "source": [
    "def variance(sorted_list, mean, length):\n",
    "    \"\"\"\n",
    "    Return variance of the dataset\n",
    "    \"\"\"\n",
    "    x = [pow(i - mean, exp=2) for i in sorted_list]\n",
    "    result = sum(x) / length\n",
    "    return result"
   ]
  },
  {
   "cell_type": "code",
   "execution_count": 64,
   "metadata": {},
   "outputs": [],
   "source": [
    "def std_dev(variance):\n",
    "    \"\"\"\n",
    "    Return the standard deviation of the dataset\n",
    "    \"\"\"\n",
    "    return variance ** 0.5"
   ]
  },
  {
   "cell_type": "code",
   "execution_count": 65,
   "metadata": {},
   "outputs": [
    {
     "name": "stdout",
     "output_type": "stream",
     "text": [
      "Sorted data set:  [1, 26, 35, 35, 47, 49, 66, 73, 81, 93]\n",
      "Variance:  702.84\n",
      "Standard deviation:  26.511129738281618\n"
     ]
    }
   ],
   "source": [
    "sorted_list, length, mean = sort_and_mean(data)\n",
    "variance = variance(sorted_list, mean, length)\n",
    "standard_deviation = std_dev(variance)\n",
    "\n",
    "print(\"Sorted data set: \", sorted_list)\n",
    "print(\"Variance: \", variance)\n",
    "print(\"Standard deviation: \", standard_deviation)\n",
    "\n",
    "\n"
   ]
  }
 ],
 "metadata": {
  "kernelspec": {
   "display_name": "Python 3",
   "language": "python",
   "name": "python3"
  },
  "language_info": {
   "codemirror_mode": {
    "name": "ipython",
    "version": 3
   },
   "file_extension": ".py",
   "mimetype": "text/x-python",
   "name": "python",
   "nbconvert_exporter": "python",
   "pygments_lexer": "ipython3",
   "version": "3.11.2"
  },
  "orig_nbformat": 4
 },
 "nbformat": 4,
 "nbformat_minor": 2
}
